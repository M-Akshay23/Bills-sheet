{
 "cells": [
  {
   "cell_type": "code",
   "execution_count": 1,
   "id": "d3d752e3-8ddc-41d1-9a32-0c8d2548e8e0",
   "metadata": {},
   "outputs": [
    {
     "name": "stdin",
     "output_type": "stream",
     "text": [
      "\n",
      "Enter number of customers:  2\n",
      "\n",
      "Enter ID or Name of customer 1:  Mike\n",
      "Enter quantity for Jackets:  1\n",
      "Enter quantity for T-Shirts:  1\n",
      "Enter quantity for Pants:  2\n",
      "Enter quantity for Shirts:  2\n",
      "Enter quantity for Hoodies:  0\n",
      "\n",
      "Enter ID or Name of customer 2:  Henry\n",
      "Enter quantity for Jackets:  2\n",
      "Enter quantity for T-Shirts:  2\n",
      "Enter quantity for Pants:  0\n",
      "Enter quantity for Shirts:  0\n",
      "Enter quantity for Hoodies:  1\n"
     ]
    },
    {
     "name": "stdout",
     "output_type": "stream",
     "text": [
      "{'Mike': {'jackets': {'Price': 2000, 'Quantity': 1, 'Total': 2000}, 't-shirts': {'Price': 500, 'Quantity': 1, 'Total': 500}, 'pants': {'Price': 1500, 'Quantity': 2, 'Total': 3000}, 'shirts': {'Price': 1000, 'Quantity': 2, 'Total': 2000}, 'Subtotal': 7500, 'Discount': 375.0, 'Final_Total': 7125.0}, 'Henry': {'jackets': {'Price': 2000, 'Quantity': 2, 'Total': 4000}, 't-shirts': {'Price': 500, 'Quantity': 2, 'Total': 1000}, 'hoodies': {'Price': 1800, 'Quantity': 1, 'Total': 1800}, 'Subtotal': 6800, 'Discount': 340.0, 'Final_Total': 6460.0}}\n"
     ]
    }
   ],
   "source": [
    "import matplotlib.pyplot as plt\n",
    "\n",
    "# Prices of items\n",
    "items = {\n",
    "    \"jackets\": 2000,\n",
    "    \"t-shirts\": 500,\n",
    "    \"pants\": 1500,\n",
    "    \"shirts\": 1000,\n",
    "    \"hoodies\": 1800\n",
    "}\n",
    "# Create a blank dictionary to store customer data\n",
    "bill_sheet = dict()\n",
    "# Number of customers\n",
    "num_customers = int(input(\"\\nEnter number of customers: \"))\n",
    "#this is for totals of all customer \n",
    "totals_combined = {item: 0 for item in items}\n",
    "\n",
    "# Outer loop for each customer\n",
    "for i in range(num_customers):\n",
    "    cid = input(f\"\\nEnter ID or Name of customer {i+1}: \")\n",
    "\n",
    " # Inner dictionary to store customer's bill\n",
    "    bill = dict()\n",
    "    subtotal = 0\n",
    "\n",
    "    for item in items:\n",
    "        qty = int(input(f\"Enter quantity for {item.title()}: \"))\n",
    "        if qty > 0:\n",
    "            item_total = qty * items[item]\n",
    "            bill[item] = {\n",
    "                \"Price\": items[item],\n",
    "                \"Quantity\": qty,\n",
    "                \"Total\": item_total\n",
    "            }\n",
    "            subtotal += item_total\n",
    "            totals_combined[item] += item_total\n",
    "\n",
    "    # Calculations\n",
    "    discount = round(subtotal * 0.05, 2)\n",
    "    final_total = round(subtotal - discount, 2)\n",
    "\n",
    "    # Add summary to dictionary\n",
    "    bill[\"Subtotal\"] = subtotal\n",
    "    bill[\"Discount\"] = discount\n",
    "    bill[\"Final_Total\"] = final_total\n",
    "\n",
    "    # Store customer's data\n",
    "    bill_sheet[cid] = bill\n",
    "\n",
    "# Final print\n",
    "print(bill_sheet)"
   ]
  },
  {
   "cell_type": "code",
   "execution_count": 4,
   "id": "835876ae-f93e-47ca-8315-a748f1f1c457",
   "metadata": {},
   "outputs": [],
   "source": [
    "#import pandas\n",
    "import pandas as pd\n"
   ]
  },
  {
   "cell_type": "code",
   "execution_count": 7,
   "id": "c5a019a0-ca38-4837-8090-622b47424f92",
   "metadata": {},
   "outputs": [
    {
     "data": {
      "text/html": [
       "<div>\n",
       "<style scoped>\n",
       "    .dataframe tbody tr th:only-of-type {\n",
       "        vertical-align: middle;\n",
       "    }\n",
       "\n",
       "    .dataframe tbody tr th {\n",
       "        vertical-align: top;\n",
       "    }\n",
       "\n",
       "    .dataframe thead th {\n",
       "        text-align: right;\n",
       "    }\n",
       "</style>\n",
       "<table border=\"1\" class=\"dataframe\">\n",
       "  <thead>\n",
       "    <tr style=\"text-align: right;\">\n",
       "      <th></th>\n",
       "      <th>jackets</th>\n",
       "      <th>t-shirts</th>\n",
       "      <th>pants</th>\n",
       "      <th>shirts</th>\n",
       "      <th>hoodies</th>\n",
       "      <th>Subtotal</th>\n",
       "      <th>Discount</th>\n",
       "      <th>Final_Total</th>\n",
       "    </tr>\n",
       "  </thead>\n",
       "  <tbody>\n",
       "    <tr>\n",
       "      <th>Mike</th>\n",
       "      <td>{'Price': 2000, 'Quantity': 1, 'Total': 2000}</td>\n",
       "      <td>{'Price': 500, 'Quantity': 1, 'Total': 500}</td>\n",
       "      <td>{'Price': 1500, 'Quantity': 2, 'Total': 3000}</td>\n",
       "      <td>{'Price': 1000, 'Quantity': 2, 'Total': 2000}</td>\n",
       "      <td>NaN</td>\n",
       "      <td>7500</td>\n",
       "      <td>375.0</td>\n",
       "      <td>7125.0</td>\n",
       "    </tr>\n",
       "    <tr>\n",
       "      <th>Henry</th>\n",
       "      <td>{'Price': 2000, 'Quantity': 2, 'Total': 4000}</td>\n",
       "      <td>{'Price': 500, 'Quantity': 2, 'Total': 1000}</td>\n",
       "      <td>NaN</td>\n",
       "      <td>NaN</td>\n",
       "      <td>{'Price': 1800, 'Quantity': 1, 'Total': 1800}</td>\n",
       "      <td>6800</td>\n",
       "      <td>340.0</td>\n",
       "      <td>6460.0</td>\n",
       "    </tr>\n",
       "  </tbody>\n",
       "</table>\n",
       "</div>"
      ],
      "text/plain": [
       "                                             jackets  \\\n",
       "Mike   {'Price': 2000, 'Quantity': 1, 'Total': 2000}   \n",
       "Henry  {'Price': 2000, 'Quantity': 2, 'Total': 4000}   \n",
       "\n",
       "                                           t-shirts  \\\n",
       "Mike    {'Price': 500, 'Quantity': 1, 'Total': 500}   \n",
       "Henry  {'Price': 500, 'Quantity': 2, 'Total': 1000}   \n",
       "\n",
       "                                               pants  \\\n",
       "Mike   {'Price': 1500, 'Quantity': 2, 'Total': 3000}   \n",
       "Henry                                            NaN   \n",
       "\n",
       "                                              shirts  \\\n",
       "Mike   {'Price': 1000, 'Quantity': 2, 'Total': 2000}   \n",
       "Henry                                            NaN   \n",
       "\n",
       "                                             hoodies  Subtotal  Discount  \\\n",
       "Mike                                             NaN      7500     375.0   \n",
       "Henry  {'Price': 1800, 'Quantity': 1, 'Total': 1800}      6800     340.0   \n",
       "\n",
       "       Final_Total  \n",
       "Mike        7125.0  \n",
       "Henry       6460.0  "
      ]
     },
     "execution_count": 7,
     "metadata": {},
     "output_type": "execute_result"
    }
   ],
   "source": [
    "df = pd.DataFrame.from_dict(bill_sheet, orient='index')\n",
    "desired_order = ['jackets', 't-shirts', 'pants', 'shirts', 'hoodies', 'Subtotal', 'Discount', 'Final_Total']\n",
    "df = df.reindex(columns=desired_order)\n",
    "\n",
    "df"
   ]
  },
  {
   "cell_type": "code",
   "execution_count": 10,
   "id": "94897c28-bf46-4f2e-b100-d77d9124c086",
   "metadata": {},
   "outputs": [],
   "source": [
    "#create an csv file from dataframe\n",
    "df.to_csv('bill_sheet.csv')"
   ]
  },
  {
   "cell_type": "code",
   "execution_count": 13,
   "id": "bfd3dce9-101e-4140-8b82-7c542c8a3927",
   "metadata": {},
   "outputs": [
    {
     "data": {
      "image/png": "[encoded data removed]",
      "text/plain": [
       "<Figure size 800x500 with 1 Axes>"
      ]
     },
     "metadata": {},
     "output_type": "display_data"
    }
   ],
   "source": [
    "# Final combined visualization\n",
    "item_names = [item.title() for item in totals_combined.keys()]\n",
    "item_totals = list(totals_combined.values())\n",
    "\n",
    "plt.figure(figsize=(8, 5))\n",
    "plt.bar(item_names, item_totals, color='orange')\n",
    "plt.title(\"Total Sales per Item (All Customers)\")\n",
    "plt.xlabel(\"Items\")\n",
    "plt.ylabel(\"Total Sales (₹)\")\n",
    "plt.grid(axis='y', linestyle='--', alpha=0.5)\n",
    "plt.tight_layout()\n",
    "plt.show()"
   ]
  },
  {
   "cell_type": "code",
   "execution_count": null,
   "id": "ee96c041-cc23-4c37-98c1-300900918673",
   "metadata": {},
   "outputs": [],
   "source": []
  }
 ],
 "metadata": {
  "kernelspec": {
   "display_name": "Python 3 (ipykernel)",
   "language": "python",
   "name": "python3"
  },
  "language_info": {
   "codemirror_mode": {
    "name": "ipython",
    "version": 3
   },
   "file_extension": ".py",
   "mimetype": "text/x-python",
   "name": "python",
   "nbconvert_exporter": "python",
   "pygments_lexer": "ipython3",
   "version": "3.12.4"
  }
 },
 "nbformat": 4,
 "nbformat_minor": 5
}
